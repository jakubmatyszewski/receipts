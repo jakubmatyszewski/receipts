{
 "cells": [
  {
   "cell_type": "code",
   "execution_count": 1,
   "metadata": {},
   "outputs": [],
   "source": [
    "import cv2\n",
    "import imutils\n",
    "\n",
    "from pyimagesearch.transform import four_point_transform"
   ]
  },
  {
   "cell_type": "code",
   "execution_count": 2,
   "metadata": {},
   "outputs": [],
   "source": [
    "class Image:\n",
    "    def __init__(self, path):\n",
    "        self.img = cv2.imread(path)\n",
    "        self.showImage()\n",
    "\n",
    "\n",
    "    def showImage(self, image=None, time=5000):\n",
    "        if image is None:\n",
    "            image = self.img\n",
    "        cv2.imshow('Image', image)\n",
    "        cv2.waitKey(time)\n",
    "        cv2.destroyAllWindows()\n",
    "\n",
    "\n",
    "    def toGray(self, image):\n",
    "        gray = cv2.cvtColor(image, cv2.COLOR_BGR2GRAY)\n",
    "        gray = cv2.GaussianBlur(gray, (5, 5), 0)\n",
    "        return gray\n",
    "\n",
    "\n",
    "    def detectEdges(self):\n",
    "        \"\"\"\n",
    "        Detect receipt edges and crop it accordingly.\n",
    "        \"\"\"\n",
    "        resized = imutils.resize(self.img, height = 500)\n",
    "        ratio = self.img.shape[0] / 500.0\n",
    "        gray = self.toGray(resized)\n",
    "        edged = cv2.Canny(gray, 75, 200)\n",
    "\n",
    "        cnts = cv2.findContours(edged.copy(), cv2.RETR_LIST, cv2.CHAIN_APPROX_SIMPLE)\n",
    "        cnts = imutils.grab_contours(cnts)\n",
    "        cnts = sorted(cnts, key = cv2.contourArea, reverse = True)[:5]\n",
    "        \n",
    "        for c in cnts:\n",
    "            # approximate the contour\n",
    "            peri = cv2.arcLength(c, True)\n",
    "            approx = cv2.approxPolyDP(c, 0.02 * peri, True)\n",
    "\n",
    "            # if our approximated contour has four points, then we\n",
    "            # can assume that we have found our screen\n",
    "            if len(approx) == 4:\n",
    "                screenCnt = approx\n",
    "                break\n",
    "\n",
    "        warped = four_point_transform(self.img, screenCnt.reshape(4, 2) * ratio)\n",
    "        self.showImage(imutils.resize(warped, height = 650))"
   ]
  },
  {
   "cell_type": "code",
   "execution_count": 3,
   "metadata": {},
   "outputs": [],
   "source": [
    "warped = Image('images/example.jpg')"
   ]
  },
  {
   "cell_type": "code",
   "execution_count": 4,
   "metadata": {
    "scrolled": false
   },
   "outputs": [],
   "source": [
    "warped.detectEdges()"
   ]
  }
 ],
 "metadata": {
  "kernelspec": {
   "display_name": "Python 3",
   "language": "python",
   "name": "python3"
  },
  "language_info": {
   "codemirror_mode": {
    "name": "ipython",
    "version": 3
   },
   "file_extension": ".py",
   "mimetype": "text/x-python",
   "name": "python",
   "nbconvert_exporter": "python",
   "pygments_lexer": "ipython3",
   "version": "3.7.3"
  }
 },
 "nbformat": 4,
 "nbformat_minor": 2
}
